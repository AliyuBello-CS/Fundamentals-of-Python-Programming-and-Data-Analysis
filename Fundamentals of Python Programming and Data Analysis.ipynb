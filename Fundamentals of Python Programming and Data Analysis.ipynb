{
  "nbformat": 4,
  "nbformat_minor": 0,
  "metadata": {
    "colab": {
      "provenance": []
    },
    "kernelspec": {
      "name": "python3",
      "display_name": "Python 3"
    },
    "language_info": {
      "name": "python"
    }
  },
  "cells": [
    {
      "cell_type": "code",
      "execution_count": 1,
      "metadata": {
        "id": "M7BBwWPqzqkd"
      },
      "outputs": [],
      "source": [
        "import numpy as np\n",
        "import random"
      ]
    },
    {
      "cell_type": "markdown",
      "source": [
        "QUESTION: Working with GPA"
      ],
      "metadata": {
        "id": "EXhdB3o10tSH"
      }
    },
    {
      "cell_type": "markdown",
      "source": [
        "a"
      ],
      "metadata": {
        "id": "ObeDqoWCBbC7"
      }
    },
    {
      "cell_type": "code",
      "source": [
        "# Generate GPAs for 20 students between 2.0 and 4.0\n",
        "np.random.seed(42)  # Ensuring the same random values every time\n",
        "gpas = np.random.uniform(2.0, 4.0, 20)\n",
        "print(\"GPAs:\", gpas)\n"
      ],
      "metadata": {
        "colab": {
          "base_uri": "https://localhost:8080/"
        },
        "id": "qVmvG9170svJ",
        "outputId": "b25ebc5e-7561-40f3-a6c9-80f44295c696"
      },
      "execution_count": 36,
      "outputs": [
        {
          "output_type": "stream",
          "name": "stdout",
          "text": [
            "GPAs: [2.74908024 3.90142861 3.46398788 3.19731697 2.31203728 2.31198904\n",
            " 2.11616722 3.73235229 3.20223002 3.41614516 2.04116899 3.9398197\n",
            " 3.66488528 2.42467822 2.36364993 2.36680902 2.60848449 3.04951286\n",
            " 2.86389004 2.58245828]\n"
          ]
        }
      ]
    },
    {
      "cell_type": "markdown",
      "source": [
        "b"
      ],
      "metadata": {
        "id": "TxInB75JBd8n"
      }
    },
    {
      "cell_type": "code",
      "source": [
        "# Find the highest two and lowest two GPAs\n",
        "gpas_sorted = np.sort(gpas)\n",
        "highest_two = gpas_sorted[-2:]\n",
        "lowest_two = gpas_sorted[:2]\n",
        "print(\"Highest Two GPAs:\", highest_two)\n",
        "print(\"----------------------------------------------------------\")\n",
        "print(\"Lowest Two GPAs:\", lowest_two)"
      ],
      "metadata": {
        "colab": {
          "base_uri": "https://localhost:8080/"
        },
        "id": "StAMI86Y2klq",
        "outputId": "d4a0a999-420f-4a23-8d37-88a2ab84409a"
      },
      "execution_count": 41,
      "outputs": [
        {
          "output_type": "stream",
          "name": "stdout",
          "text": [
            "Highest Two GPAs: [3.90142861 3.9398197 ]\n",
            "----------------------------------------------------------\n",
            "Lowest Two GPAs: [2.04116899 2.11616722]\n"
          ]
        }
      ]
    },
    {
      "cell_type": "markdown",
      "source": [
        "c"
      ],
      "metadata": {
        "id": "z24Ar0A7BfMl"
      }
    },
    {
      "cell_type": "code",
      "source": [
        "# Remove the highest and lowest GPAs, then compute new average\n",
        "gpas_trimmed = gpas_sorted[2:-2]\n",
        "print(\"Updated GPAs after dropping highest and lowest:\", gpas_trimmed)\n",
        "print(\"--------------------------------------------------------------------\")\n",
        "print(\"New Average GPA:\", np.mean(gpas_trimmed))\n"
      ],
      "metadata": {
        "colab": {
          "base_uri": "https://localhost:8080/"
        },
        "id": "Khx3rjy57233",
        "outputId": "37fc7137-70b4-4dd6-bce7-b4cc1290ef00"
      },
      "execution_count": 42,
      "outputs": [
        {
          "output_type": "stream",
          "name": "stdout",
          "text": [
            "Updated GPAs after dropping highest and lowest: [2.31198904 2.31203728 2.36364993 2.36680902 2.42467822 2.58245828\n",
            " 2.60848449 2.74908024 2.86389004 3.04951286 3.19731697 3.20223002\n",
            " 3.41614516 3.46398788 3.66488528 3.73235229]\n",
            "--------------------------------------------------------------------\n",
            "New Average GPA: 2.8943441878649745\n"
          ]
        }
      ]
    },
    {
      "cell_type": "markdown",
      "source": [
        "d"
      ],
      "metadata": {
        "id": "WLb2iPlSBjI1"
      }
    },
    {
      "cell_type": "code",
      "source": [
        "# Switch first and second half of an array\n",
        "test_arr = np.arange(10)\n",
        "mid = len(test_arr) // 2\n",
        "switched_arr = np.concatenate((test_arr[mid:], test_arr[:mid]))\n",
        "print(\"Original Array:\", test_arr)\n",
        "print(\"----------------------------------------------------------\")\n",
        "print(\"Switched Array:\", switched_arr)\n"
      ],
      "metadata": {
        "colab": {
          "base_uri": "https://localhost:8080/"
        },
        "id": "0Ey9Yv7n79jk",
        "outputId": "60bd663b-95a4-4467-d4dc-ba48a31780fa"
      },
      "execution_count": 45,
      "outputs": [
        {
          "output_type": "stream",
          "name": "stdout",
          "text": [
            "Original Array: [0 1 2 3 4 5 6 7 8 9]\n",
            "----------------------------------------------------------\n",
            "Switched Array: [5 6 7 8 9 0 1 2 3 4]\n"
          ]
        }
      ]
    },
    {
      "cell_type": "markdown",
      "source": [
        "QUESTION 2: Working with Matrices"
      ],
      "metadata": {
        "id": "n-bLiUY58HZh"
      }
    },
    {
      "cell_type": "markdown",
      "source": [
        "a"
      ],
      "metadata": {
        "id": "g_46ixcoCOle"
      }
    },
    {
      "cell_type": "code",
      "source": [
        "# Create 5x5 random integer array and replace 3rd column with 1\n",
        "array_5x5 = np.random.randint(1, 21, (5, 5))\n",
        "array_5x5[:, 2] = 1  # Setting the entire third column to 1\n",
        "print(\"5x5 array with 1 in the third column:\")\n",
        "print(array_5x5)"
      ],
      "metadata": {
        "colab": {
          "base_uri": "https://localhost:8080/"
        },
        "id": "JniMmjgd8JVI",
        "outputId": "73f3ab96-690f-4fb2-e2a8-e45f3333ffe8"
      },
      "execution_count": 50,
      "outputs": [
        {
          "output_type": "stream",
          "name": "stdout",
          "text": [
            "5x5 array with 1 in the third column:\n",
            "[[ 7 17  1  4  5]\n",
            " [ 7 13  1 11  4]\n",
            " [13  7  1  2 10]\n",
            " [13  6  1 12 20]\n",
            " [11  7  1  1 20]]\n"
          ]
        }
      ]
    },
    {
      "cell_type": "markdown",
      "source": [
        "b"
      ],
      "metadata": {
        "id": "SISVvGEcCQsr"
      }
    },
    {
      "cell_type": "code",
      "source": [
        "# Create a 4x4 array and replace diagonal with 0\n",
        "array_4x4 = np.arange(1, 17).reshape(4, 4)\n",
        "np.fill_diagonal(array_4x4, 0)\n",
        "print(\"4x4 Array with 0 Diagonal:\")\n",
        "print( array_4x4)\n"
      ],
      "metadata": {
        "colab": {
          "base_uri": "https://localhost:8080/"
        },
        "id": "UWB4yEFJ8RF8",
        "outputId": "280a45f9-cf16-440d-f8b9-d8b2fee518c0"
      },
      "execution_count": 53,
      "outputs": [
        {
          "output_type": "stream",
          "name": "stdout",
          "text": [
            "4x4 Array with 0 Diagonal:\n",
            "[[ 0  2  3  4]\n",
            " [ 5  0  7  8]\n",
            " [ 9 10  0 12]\n",
            " [13 14 15  0]]\n"
          ]
        }
      ]
    },
    {
      "cell_type": "markdown",
      "source": [
        "c"
      ],
      "metadata": {
        "id": "7gTLiZtMCS1r"
      }
    },
    {
      "cell_type": "code",
      "source": [
        "# Extract borders and corners from a 5x5 array\n",
        "array_border = np.random.randint(0, 101, (5, 5))\n",
        "print(\"Original Array:\")\n",
        "print(array_border)\n",
        "\n",
        "borders = np.concatenate([array_border[0, :], array_border[-1, :], array_border[1:-1, 0], array_border[1:-1, -1]])\n",
        "corners = array_border[np.ix_([0, -1], [0, -1])]\n",
        "print(\"--------------------------------------------------------------------\")\n",
        "print(\"Borders:\", borders)\n",
        "print(\"--------------------------------------------------------------------\")\n",
        "print(\"Corners:\")\n",
        "print(corners)\n"
      ],
      "metadata": {
        "colab": {
          "base_uri": "https://localhost:8080/"
        },
        "id": "TlsO_G9v8TL8",
        "outputId": "02f74170-f81c-4f5c-d590-b1111a6fa390"
      },
      "execution_count": 59,
      "outputs": [
        {
          "output_type": "stream",
          "name": "stdout",
          "text": [
            "Original Array:\n",
            "[[68 36 31  8 98]\n",
            " [18 47 79  2 19]\n",
            " [23 53 32 23 74]\n",
            " [71 35 37 83 98]\n",
            " [88 98 24 92 17]]\n",
            "--------------------------------------------------------------------\n",
            "Borders: [68 36 31  8 98 88 98 24 92 17 18 23 71 19 74 98]\n",
            "--------------------------------------------------------------------\n",
            "Corners:\n",
            "[[68 98]\n",
            " [88 17]]\n"
          ]
        }
      ]
    },
    {
      "cell_type": "markdown",
      "source": [
        "d"
      ],
      "metadata": {
        "id": "_U8QoEkzCWEp"
      }
    },
    {
      "cell_type": "code",
      "source": [
        "# Normalize a 3x3 array\n",
        "array_3x3 = np.arange(1, 10).reshape(3, 3)\n",
        "mean = np.mean(array_3x3)\n",
        "std = np.std(array_3x3)\n",
        "normalized = (array_3x3 - mean) / std\n",
        "print(\"Normalized 3x3 Array:\")\n",
        "print (normalized)"
      ],
      "metadata": {
        "colab": {
          "base_uri": "https://localhost:8080/"
        },
        "id": "HN3N1zAg8VGU",
        "outputId": "06db2edf-9c56-4bd4-d948-6e03bb2dc0eb"
      },
      "execution_count": 61,
      "outputs": [
        {
          "output_type": "stream",
          "name": "stdout",
          "text": [
            "Normalized 3x3 Array:\n",
            "[[-1.54919334 -1.161895   -0.77459667]\n",
            " [-0.38729833  0.          0.38729833]\n",
            " [ 0.77459667  1.161895    1.54919334]]\n"
          ]
        }
      ]
    },
    {
      "cell_type": "markdown",
      "source": [
        "e"
      ],
      "metadata": {
        "id": "1wypUGMyCZxm"
      }
    },
    {
      "cell_type": "code",
      "source": [
        "# e. Create a 4x4 array with random integers between 1 and 20\n",
        "array_4x4 = np.random.randint(1, 21, (4, 4))\n",
        "\n",
        "# Use Boolean indexing to set all elements greater than 10 to 10\n",
        "array_4x4[array_4x4 > 10] = 10\n",
        "\n",
        "# Print the modified array\n",
        "print(\"Modified 4x4 Array (elements > 10 set to 10):\")\n",
        "print(array_4x4)"
      ],
      "metadata": {
        "colab": {
          "base_uri": "https://localhost:8080/"
        },
        "id": "pTsVJXz9SDeS",
        "outputId": "bc2cfe54-f8ea-43fe-d9cf-0fda2dba2e77"
      },
      "execution_count": 64,
      "outputs": [
        {
          "output_type": "stream",
          "name": "stdout",
          "text": [
            "Modified 4x4 Array (elements > 10 set to 10):\n",
            "[[10 10  4  3]\n",
            " [10 10 10 10]\n",
            " [ 6  3  9  5]\n",
            " [10 10  3  1]]\n"
          ]
        }
      ]
    },
    {
      "cell_type": "markdown",
      "source": [
        "f"
      ],
      "metadata": {
        "id": "zZebwi7aCeOV"
      }
    },
    {
      "cell_type": "code",
      "source": [
        "# Reverse a 1D array without using a function\n",
        "array_1d = np.arange(1, 10)\n",
        "\n",
        "# Print the original 1D array\n",
        "print(\"Original 1D Array:\")\n",
        "print(array_1d)\n",
        "\n",
        "# Reverse the array using slicing\n",
        "reversed_array = array_1d[::-1]\n",
        "\n",
        "# Print the reversed 1D array\n",
        "print(\"Reversed 1D Array:\")\n",
        "print(reversed_array)"
      ],
      "metadata": {
        "colab": {
          "base_uri": "https://localhost:8080/"
        },
        "id": "DnRXBpuaSbGt",
        "outputId": "149022f4-88e8-466a-c63d-addb1125a377"
      },
      "execution_count": 65,
      "outputs": [
        {
          "output_type": "stream",
          "name": "stdout",
          "text": [
            "Original 1D Array:\n",
            "[1 2 3 4 5 6 7 8 9]\n",
            "Reversed 1D Array:\n",
            "[9 8 7 6 5 4 3 2 1]\n"
          ]
        }
      ]
    },
    {
      "cell_type": "markdown",
      "source": [
        "QUESTION 3: Monthly Temperature Analysis"
      ],
      "metadata": {
        "id": "CIhMzzdDktSq"
      }
    },
    {
      "cell_type": "markdown",
      "source": [
        "a"
      ],
      "metadata": {
        "id": "oT6ZInK8ArwN"
      }
    },
    {
      "cell_type": "code",
      "source": [
        "# Store min and max monthly temperatures\n",
        "temps_min = np.array([30.5, 38.4, 48.1, 56.8, 65.2, 75.9, 83.6, 86.5, 75.3, 64.6, 58.1, 45.4])\n",
        "temps_max = np.array([48.2, 50.3, 58.7, 61.9, 70.5, 82.4, 88.2, 93.1, 86.7, 77.5, 67.2, 53.6])\n"
      ],
      "metadata": {
        "id": "IPbOQKFG8eSf"
      },
      "execution_count": 68,
      "outputs": []
    },
    {
      "cell_type": "markdown",
      "source": [
        "b"
      ],
      "metadata": {
        "id": "-5bVfXtTAuym"
      }
    },
    {
      "cell_type": "code",
      "source": [
        "# Statistics for min and max temperatures\n",
        "temp_stats = {\n",
        "    \"Min Mean\": np.mean(temps_min),\n",
        "    \"Max Mean\": np.mean(temps_max),\n",
        "    \"Min Lowest\": np.min(temps_min),\n",
        "    \"Max Highest\": np.max(temps_max),\n",
        "}\n",
        "print(temp_stats)\n"
      ],
      "metadata": {
        "colab": {
          "base_uri": "https://localhost:8080/"
        },
        "id": "lZyhYIW38eeE",
        "outputId": "9ccbcbd9-0615-4a33-d6ac-25bf9e54f034"
      },
      "execution_count": 69,
      "outputs": [
        {
          "output_type": "stream",
          "name": "stdout",
          "text": [
            "{'Min Mean': 60.70000000000001, 'Max Mean': 69.85833333333335, 'Min Lowest': 30.5, 'Max Highest': 93.1}\n"
          ]
        }
      ]
    },
    {
      "cell_type": "markdown",
      "source": [
        "c"
      ],
      "metadata": {
        "id": "SA1vyevGAxet"
      }
    },
    {
      "cell_type": "code",
      "source": [
        "# Compute average min and max temperatures for first and last quarters\n",
        "first_quarter_avg = (np.mean(temps_min[:3]), np.mean(temps_max[:3]))\n",
        "last_quarter_avg = (np.mean(temps_min[-3:]), np.mean(temps_max[-3:]))\n",
        "print(\"First Quarter Avg (Jan - Mar):\", first_quarter_avg)\n",
        "print(\"Last Quarter Avg (Oct - Dec):\", last_quarter_avg)\n"
      ],
      "metadata": {
        "colab": {
          "base_uri": "https://localhost:8080/"
        },
        "id": "TX3OJYtC8ehD",
        "outputId": "9afe4652-3350-4d1f-e365-78fded202d97"
      },
      "execution_count": 72,
      "outputs": [
        {
          "output_type": "stream",
          "name": "stdout",
          "text": [
            "First Quarter Avg (Jan - Mar): (39.0, 52.4)\n",
            "Last Quarter Avg (Oct - Dec): (56.03333333333333, 66.1)\n"
          ]
        }
      ]
    },
    {
      "cell_type": "markdown",
      "source": [
        "d"
      ],
      "metadata": {
        "id": "9RLVEYfWAz9K"
      }
    },
    {
      "cell_type": "code",
      "source": [
        "# Calculate the average temperature of each month using both mean() and dot product operation\n",
        "\n",
        "# Mean method\n",
        "mthly_avg_mean = (temps_min + temps_max) / 2\n",
        "print(\"Monthly Average Temperatures (using mean):\", mthly_avg_mean)\n",
        "\n",
        "# Dot product method (using the fact that the average of two numbers is their sum divided by 2)\n",
        "weights = np.array([0.5, 0.5])  # Each temperature contributes equally to the average (i.e., 0.5 weight)\n",
        "monthly_avg_dot_product = np.dot(np.vstack([temps_min, temps_max]).T, weights)  # Stack min and max and apply dot product\n",
        "print(\"Monthly Average Temperatures (using dot product):\", monthly_avg_dot_product)\n",
        "\n",
        "#Compute monthly average using mean and dot product\n",
        "weights = np.ones(12) / 12\n",
        "monthly_avg = np.dot(weights, (temps_min + temps_max) / 2)\n",
        "print(\"Monthly Average Temperatures:\", monthly_avg)\n"
      ],
      "metadata": {
        "colab": {
          "base_uri": "https://localhost:8080/"
        },
        "id": "FZ3q6vnhIIok",
        "outputId": "aca2f19f-1701-4813-d16d-34ba77d7940e"
      },
      "execution_count": 74,
      "outputs": [
        {
          "output_type": "stream",
          "name": "stdout",
          "text": [
            "Monthly Average Temperatures (using mean): [39.35 44.35 53.4  59.35 67.85 79.15 85.9  89.8  81.   71.05 62.65 49.5 ]\n",
            "Monthly Average Temperatures (using dot product): [39.35 44.35 53.4  59.35 67.85 79.15 85.9  89.8  81.   71.05 62.65 49.5 ]\n",
            "Monthly Average Temperatures: 65.27916666666667\n"
          ]
        }
      ]
    },
    {
      "cell_type": "markdown",
      "source": [
        "e"
      ],
      "metadata": {
        "id": "3FvU8Lw0A1wA"
      }
    },
    {
      "cell_type": "markdown",
      "source": [
        "QUESTION 4: Student Grades Analysis\n"
      ],
      "metadata": {
        "id": "frWMwUdJ84wm"
      }
    },
    {
      "cell_type": "code",
      "source": [
        "np.random.seed(42)\n",
        "grades = np.random.randint(60, 101, (20, 3))\n",
        "print(\"Student Grades (Midterm 1, Midterm 2, Final Exam):\\n\")\n",
        "print(\"(Midterm 1, Midterm 2, Final Exam):\\n\")\n",
        "print(grades)"
      ],
      "metadata": {
        "colab": {
          "base_uri": "https://localhost:8080/"
        },
        "id": "mY3LSRuj8ekI",
        "outputId": "a302b076-ac09-4d54-fdf6-7cfb0c8ea256"
      },
      "execution_count": 83,
      "outputs": [
        {
          "output_type": "stream",
          "name": "stdout",
          "text": [
            "Student Grades (Midterm 1, Midterm 2, Final Exam):\n",
            "\n",
            "(Midterm 1, Midterm 2, Final Exam):\n",
            "\n",
            "[[98 88 74]\n",
            " [67 80 98]\n",
            " [78 82 70]\n",
            " [70 83 95]\n",
            " [99 83 62]\n",
            " [81 61 83]\n",
            " [89 97 61]\n",
            " [80 92 71]\n",
            " [81 84 86]\n",
            " [87 75 74]\n",
            " [62 96 66]\n",
            " [80 68 98]\n",
            " [77 63 84]\n",
            " [73 68 85]\n",
            " [61 79 87]\n",
            " [66 67 94]\n",
            " [73 76 95]\n",
            " [99 63 61]\n",
            " [65 63 88]\n",
            " [77 85 93]]\n"
          ]
        }
      ]
    },
    {
      "cell_type": "markdown",
      "source": [
        "a"
      ],
      "metadata": {
        "id": "6e7J0uTDA4au"
      }
    },
    {
      "cell_type": "code",
      "source": [
        "# Compute column-wise (test-wise) and row-wise (student-wise) averages\n",
        "avg_per_exam = np.mean(grades, axis=0)  # Average for Midterm 1, Midterm 2, Final\n",
        "avg_per_student = np.mean(grades, axis=1).reshape(-1, 1)   # Average per student\n",
        "\n",
        "print(\"Average per Exam:\", avg_per_exam)\n",
        "print(\"--------------------------------------------------------------------\")\n",
        "\n",
        "print(\"Average per Student (Vertically):\\n\", avg_per_student)\n",
        "\n"
      ],
      "metadata": {
        "colab": {
          "base_uri": "https://localhost:8080/"
        },
        "id": "3LiGcksSovHN",
        "outputId": "d5348f7d-5b0e-40b7-fa5d-29883c6fb987"
      },
      "execution_count": 89,
      "outputs": [
        {
          "output_type": "stream",
          "name": "stdout",
          "text": [
            "Average per Exam: [78.15 77.65 81.25]\n",
            "--------------------------------------------------------------------\n",
            "Average per Student (Vertically):\n",
            " [[86.66666667]\n",
            " [81.66666667]\n",
            " [76.66666667]\n",
            " [82.66666667]\n",
            " [81.33333333]\n",
            " [75.        ]\n",
            " [82.33333333]\n",
            " [81.        ]\n",
            " [83.66666667]\n",
            " [78.66666667]\n",
            " [74.66666667]\n",
            " [82.        ]\n",
            " [74.66666667]\n",
            " [75.33333333]\n",
            " [75.66666667]\n",
            " [75.66666667]\n",
            " [81.33333333]\n",
            " [74.33333333]\n",
            " [72.        ]\n",
            " [85.        ]]\n"
          ]
        }
      ]
    },
    {
      "cell_type": "markdown",
      "source": [
        "b"
      ],
      "metadata": {
        "id": "O7KBT-ugA7S9"
      }
    },
    {
      "cell_type": "code",
      "source": [
        "# Calculate max and min scores for each exam\n",
        "max_scores = np.max(grades, axis=0)\n",
        "min_scores = np.min(grades, axis=0)\n",
        "print(\"Max Scores (Midterm 1, Midterm 2, Final):\", max_scores)\n",
        "print(\"Min Scores (Midterm 1, Midterm 2, Final):\", min_scores)"
      ],
      "metadata": {
        "colab": {
          "base_uri": "https://localhost:8080/"
        },
        "id": "XBzLkUBJ8esu",
        "outputId": "cc32b546-b226-4475-e60a-09c036f19a78"
      },
      "execution_count": 90,
      "outputs": [
        {
          "output_type": "stream",
          "name": "stdout",
          "text": [
            "Max Scores (Midterm 1, Midterm 2, Final): [99 97 98]\n",
            "Min Scores (Midterm 1, Midterm 2, Final): [61 61 61]\n"
          ]
        }
      ]
    },
    {
      "cell_type": "markdown",
      "source": [
        "c"
      ],
      "metadata": {
        "id": "etjnUy_wBBZr"
      }
    },
    {
      "cell_type": "code",
      "source": [
        "# Calculate average grade for first two and last two students\n",
        "avg_first_last_2= np.mean(grades[[0, 1, -2, -1]], axis=0)\n",
        "print(\"Avg of first two and last two students:\", avg_first_last_2)\n"
      ],
      "metadata": {
        "colab": {
          "base_uri": "https://localhost:8080/"
        },
        "id": "snBVZS-29EiF",
        "outputId": "8a771703-4847-4d4f-9b58-06120cc4683a"
      },
      "execution_count": 91,
      "outputs": [
        {
          "output_type": "stream",
          "name": "stdout",
          "text": [
            "Avg of first two and last two students: [76.75 79.   88.25]\n"
          ]
        }
      ]
    },
    {
      "cell_type": "markdown",
      "source": [
        "d"
      ],
      "metadata": {
        "id": "FFtvB9UsBGDD"
      }
    },
    {
      "cell_type": "code",
      "source": [
        "# Compute the average of Midterm 1 and Midterm 2 grades for the first 10 students\n",
        "avg_midterm_1_2_first_10 = np.mean(grades[:10, :2], axis=0)\n",
        "print(\"Average of Midterm 1 and Midterm 2 for first 10 students:\", avg_midterm_1_2_first_10)"
      ],
      "metadata": {
        "colab": {
          "base_uri": "https://localhost:8080/"
        },
        "id": "vNBWZBv09Ek8",
        "outputId": "3cb19805-4834-4bb7-b430-a6e856b7f3c4"
      },
      "execution_count": 92,
      "outputs": [
        {
          "output_type": "stream",
          "name": "stdout",
          "text": [
            "Average of Midterm 1 and Midterm 2 for first 10 students: [83.  82.5]\n"
          ]
        }
      ]
    },
    {
      "cell_type": "markdown",
      "source": [
        "e"
      ],
      "metadata": {
        "id": "bluwMjVwBI3r"
      }
    },
    {
      "cell_type": "code",
      "source": [
        "# Students who scored >=75 in Midterm 2 or Final Exam\n",
        "high_scorers = grades[(grades[:, 1] >= 75) | (grades[:, 2] >= 75)]\n",
        "print(\"Students with >=75 in Midterm 2 or Final Exam:\", high_scorers)"
      ],
      "metadata": {
        "colab": {
          "base_uri": "https://localhost:8080/"
        },
        "id": "r8W8VF6c9En7",
        "outputId": "52d57388-3867-49ae-befb-d107fe6ce8f5"
      },
      "execution_count": 93,
      "outputs": [
        {
          "output_type": "stream",
          "name": "stdout",
          "text": [
            "Students with >=75 in Midterm 2 or Final Exam: [[98 88 74]\n",
            " [67 80 98]\n",
            " [78 82 70]\n",
            " [70 83 95]\n",
            " [99 83 62]\n",
            " [81 61 83]\n",
            " [89 97 61]\n",
            " [80 92 71]\n",
            " [81 84 86]\n",
            " [87 75 74]\n",
            " [62 96 66]\n",
            " [80 68 98]\n",
            " [77 63 84]\n",
            " [73 68 85]\n",
            " [61 79 87]\n",
            " [66 67 94]\n",
            " [73 76 95]\n",
            " [65 63 88]\n",
            " [77 85 93]]\n"
          ]
        }
      ]
    },
    {
      "cell_type": "markdown",
      "source": [
        "f"
      ],
      "metadata": {
        "id": "D68ubDkqBL-B"
      }
    },
    {
      "cell_type": "code",
      "source": [
        "# Change scores <80 to 80, then compute alternate students' avg for Midterm 1 and Final\n",
        "grades[grades < 80] = 80\n",
        "alternate_avg = np.mean(grades[::2, [0, 2]], axis=0)\n",
        "print(\"Alternate students' avg Midterm 1 & Final:\", alternate_avg)"
      ],
      "metadata": {
        "colab": {
          "base_uri": "https://localhost:8080/"
        },
        "id": "Kmw2aNEQ9Eq7",
        "outputId": "a8d1d79a-f37a-4255-9b11-bba3a1912530"
      },
      "execution_count": 95,
      "outputs": [
        {
          "output_type": "stream",
          "name": "stdout",
          "text": [
            "Alternate students' avg Midterm 1 & Final: [84.7 84. ]\n"
          ]
        }
      ]
    },
    {
      "cell_type": "markdown",
      "source": [
        "g"
      ],
      "metadata": {
        "id": "yaA2MNPZBN_L"
      }
    },
    {
      "cell_type": "code",
      "source": [
        "# Calculate weighted total scores for first 10 students (30% Midterm 1, 30% Midterm 2, 40% Final)\n",
        "weights = np.array([0.3, 0.3, 0.4])\n",
        "total_scores = np.dot(grades[:10], weights).reshape(-1, 1)\n",
        "print(\"Weighted total scores for first 10 students:\\n\", total_scores)\n"
      ],
      "metadata": {
        "colab": {
          "base_uri": "https://localhost:8080/"
        },
        "id": "YNy0vwDB9FRP",
        "outputId": "44c1d247-d8d9-49b5-f659-cc2f9ab9e52b"
      },
      "execution_count": 98,
      "outputs": [
        {
          "output_type": "stream",
          "name": "stdout",
          "text": [
            "Weighted total scores for first 10 students:\n",
            " [[87.8]\n",
            " [87.2]\n",
            " [80.6]\n",
            " [86.9]\n",
            " [86.6]\n",
            " [81.5]\n",
            " [87.8]\n",
            " [83.6]\n",
            " [83.9]\n",
            " [82.1]]\n"
          ]
        }
      ]
    },
    {
      "cell_type": "markdown",
      "source": [
        "h"
      ],
      "metadata": {
        "id": "DkOiF0D2BT1l"
      }
    },
    {
      "cell_type": "code",
      "source": [
        "# Increase Midterm 1 & 2 by 10%, decrease Final by 5%, converting the grades to integers\n",
        "grades = grades.astype(float)  # Convert to float for percentage operations\n",
        "grades[:, :2] *= 1.1  # Increase Midterm 1 & 2 by 10%\n",
        "grades[:, 2] *= 0.95  # Decrease Final by 5%\n",
        "grades = grades.astype(int)  # Convert back to integer\n",
        "print(\"Updated Grades:\\n\", grades)\n"
      ],
      "metadata": {
        "colab": {
          "base_uri": "https://localhost:8080/"
        },
        "id": "lFAJtuHH9SU1",
        "outputId": "0a41b57e-531c-4138-f5a0-7cac9a4c5d79"
      },
      "execution_count": 100,
      "outputs": [
        {
          "output_type": "stream",
          "name": "stdout",
          "text": [
            "Updated Grades:\n",
            " [[117 105  72]\n",
            " [ 96  96  88]\n",
            " [ 96  99  72]\n",
            " [ 96 100  85]\n",
            " [118 100  72]\n",
            " [ 97  96  74]\n",
            " [106 116  72]\n",
            " [ 96 111  72]\n",
            " [ 97 101  76]\n",
            " [104  96  72]\n",
            " [ 96 115  72]\n",
            " [ 96  96  88]\n",
            " [ 96  96  75]\n",
            " [ 96  96  76]\n",
            " [ 96  96  77]\n",
            " [ 96  96  84]\n",
            " [ 96  96  85]\n",
            " [118  96  72]\n",
            " [ 96  96  78]\n",
            " [ 96 102  83]]\n"
          ]
        }
      ]
    },
    {
      "cell_type": "markdown",
      "source": [
        "i"
      ],
      "metadata": {
        "id": "1YoxtEeRBV5V"
      }
    },
    {
      "cell_type": "code",
      "source": [
        "# Rescale test scores between 0 and 100 based on max score in each column\n",
        "grades_scaled = (grades / np.max(grades, axis=0)) * 100\n",
        "print(\"Rescaled Grades:\\n\", grades_scaled)"
      ],
      "metadata": {
        "colab": {
          "base_uri": "https://localhost:8080/"
        },
        "id": "vQToKkNN9SYn",
        "outputId": "f1f333f2-0289-4cba-c0ba-81964038e551"
      },
      "execution_count": 101,
      "outputs": [
        {
          "output_type": "stream",
          "name": "stdout",
          "text": [
            "Rescaled Grades:\n",
            " [[ 99.15254237  90.51724138  81.81818182]\n",
            " [ 81.3559322   82.75862069 100.        ]\n",
            " [ 81.3559322   85.34482759  81.81818182]\n",
            " [ 81.3559322   86.20689655  96.59090909]\n",
            " [100.          86.20689655  81.81818182]\n",
            " [ 82.20338983  82.75862069  84.09090909]\n",
            " [ 89.83050847 100.          81.81818182]\n",
            " [ 81.3559322   95.68965517  81.81818182]\n",
            " [ 82.20338983  87.06896552  86.36363636]\n",
            " [ 88.13559322  82.75862069  81.81818182]\n",
            " [ 81.3559322   99.13793103  81.81818182]\n",
            " [ 81.3559322   82.75862069 100.        ]\n",
            " [ 81.3559322   82.75862069  85.22727273]\n",
            " [ 81.3559322   82.75862069  86.36363636]\n",
            " [ 81.3559322   82.75862069  87.5       ]\n",
            " [ 81.3559322   82.75862069  95.45454545]\n",
            " [ 81.3559322   82.75862069  96.59090909]\n",
            " [100.          82.75862069  81.81818182]\n",
            " [ 81.3559322   82.75862069  88.63636364]\n",
            " [ 81.3559322   87.93103448  94.31818182]]\n"
          ]
        }
      ]
    }
  ]
}